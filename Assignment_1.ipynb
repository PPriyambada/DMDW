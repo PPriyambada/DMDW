{
 "cells": [
  {
   "cell_type": "markdown",
   "metadata": {},
   "source": [
    "# Question-1"
   ]
  },
  {
   "cell_type": "markdown",
   "metadata": {},
   "source": [
    "## Create a list in python . Next find mean and median of the list without using any builtin library functions¶"
   ]
  },
  {
   "cell_type": "markdown",
   "metadata": {},
   "source": [
    "# Mean"
   ]
  },
  {
   "cell_type": "code",
   "execution_count": 3,
   "metadata": {},
   "outputs": [
    {
     "name": "stdout",
     "output_type": "stream",
     "text": [
      "The mean of list l is  25.666666666666668\n"
     ]
    }
   ],
   "source": [
    "\n",
    "l=[12,35,18,9,56,24]\n",
    "mean=sum(l)/len(l)\n",
    "print(\"The mean of list l is \",mean)"
   ]
  },
  {
   "cell_type": "markdown",
   "metadata": {},
   "source": [
    "# Median"
   ]
  },
  {
   "cell_type": "code",
   "execution_count": 4,
   "metadata": {},
   "outputs": [
    {
     "name": "stdout",
     "output_type": "stream",
     "text": [
      "The median is  21.0\n"
     ]
    }
   ],
   "source": [
    "n=len(l)\n",
    "l.sort()\n",
    "if(n%2==0):\n",
    "    median=(l[n//2]+l[n//2-1])/2\n",
    "    print(\"The median is \",median)\n",
    "else:\n",
    "    median=l[n//2]\n",
    "    print(\"The median is \",median)"
   ]
  },
  {
   "cell_type": "markdown",
   "metadata": {},
   "source": [
    "# 2. Create list inj python. Next find the mode of the list without using any builtin library function¶\n"
   ]
  },
  {
   "cell_type": "code",
   "execution_count": 11,
   "metadata": {},
   "outputs": [
    {
     "name": "stdout",
     "output_type": "stream",
     "text": [
      "Mode is:  [1]\n"
     ]
    }
   ],
   "source": [
    "list1=[2,3,1,1,6,2,1,5]\n",
    "list1.sort()\n",
    "list2 = []\n",
    "res = []\n",
    "for i in list1:\n",
    "    list2.append(list1.count(i))\n",
    "dic = dict(zip(list1,list2))\n",
    "for k,v in dic.items():\n",
    "    if v == max(list2):\n",
    "        res.append(k)\n",
    "print(\"Mode is: \",res)"
   ]
  },
  {
   "cell_type": "markdown",
   "metadata": {},
   "source": [
    "# 3. Create a list in python. Next find the second smallest number and second highest number in the list."
   ]
  },
  {
   "cell_type": "code",
   "execution_count": 8,
   "metadata": {},
   "outputs": [],
   "source": [
    "l=[12,35,18,9,56,24]"
   ]
  },
  {
   "cell_type": "code",
   "execution_count": 9,
   "metadata": {},
   "outputs": [
    {
     "name": "stdout",
     "output_type": "stream",
     "text": [
      "The second largest number is :  35\n",
      "The second smallest number is :  12\n"
     ]
    }
   ],
   "source": [
    "l.sort()\n",
    "print(\"The second largest number is : \",l[len(l)-2])\n",
    "print(\"The second smallest number is : \",l[1])"
   ]
  },
  {
   "cell_type": "code",
   "execution_count": null,
   "metadata": {},
   "outputs": [],
   "source": []
  }
 ],
 "metadata": {
  "kernelspec": {
   "display_name": "Python 3",
   "language": "python",
   "name": "python3"
  },
  "language_info": {
   "codemirror_mode": {
    "name": "ipython",
    "version": 3
   },
   "file_extension": ".py",
   "mimetype": "text/x-python",
   "name": "python",
   "nbconvert_exporter": "python",
   "pygments_lexer": "ipython3",
   "version": "3.8.5"
  }
 },
 "nbformat": 4,
 "nbformat_minor": 4
}
